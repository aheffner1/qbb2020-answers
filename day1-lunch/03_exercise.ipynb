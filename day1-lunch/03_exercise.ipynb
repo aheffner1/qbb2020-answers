{
 "cells": [
  {
   "cell_type": "markdown",
   "metadata": {},
   "source": [
    "# Load Packages"
   ]
  },
  {
   "cell_type": "code",
   "execution_count": 1,
   "metadata": {},
   "outputs": [],
   "source": [
    "import numpy as np\n",
    "import pandas as pd\n",
    "import matplotlib.pyplot as plt"
   ]
  },
  {
   "cell_type": "markdown",
   "metadata": {},
   "source": [
    "# Load Files K4me3, K9me3, K27me3"
   ]
  },
  {
   "cell_type": "code",
   "execution_count": 2,
   "metadata": {},
   "outputs": [],
   "source": [
    "bed_columns = [\"chr\", \"start\", \"end\"]\n",
    "#df_k4 = pd.read_table( \"/../../qbb2020/data/K4me3.bed\", names=bed_columns )\n",
    "df_k4 = pd.read_table( \"/Users/cmdb/qbb2020/data/K4me3.bed\", names=bed_columns )\n",
    "df_k9 = pd.read_table( \"/Users/cmdb/qbb2020/data/K9me3.bed\", names=bed_columns )\n",
    "df_k27 = pd.read_table( \"/Users/cmdb/qbb2020/data/K27me3.bed\", names=bed_columns )\n"
   ]
  },
  {
   "cell_type": "markdown",
   "metadata": {},
   "source": [
    "# Data Frames"
   ]
  },
  {
   "cell_type": "code",
   "execution_count": 3,
   "metadata": {},
   "outputs": [
    {
     "data": {
      "text/plain": [
       "0      2L\n",
       "1      2L\n",
       "2      2L\n",
       "3      2L\n",
       "4      2L\n",
       "       ..\n",
       "426     X\n",
       "427     X\n",
       "428     X\n",
       "429     X\n",
       "430     X\n",
       "Name: chr, Length: 431, dtype: object"
      ]
     },
     "execution_count": 3,
     "metadata": {},
     "output_type": "execute_result"
    }
   ],
   "source": [
    "# tests\n",
    "df_k27.columns\n",
    "df_k27.index\n",
    "df_k27.values\n",
    "df_k27.shape\n",
    "df_k27.loc[0,\"chr\"]\n",
    "df_k27.loc[:,\"chr\"]"
   ]
  },
  {
   "cell_type": "markdown",
   "metadata": {},
   "source": [
    "# Chromosomes"
   ]
  },
  {
   "cell_type": "code",
   "execution_count": 4,
   "metadata": {},
   "outputs": [],
   "source": [
    "# create a series for chromosome data K4\n",
    "chr_k4 = df_k4.loc[:,\"chr\"]\n",
    "chr_k4 = chr_k4.value_counts()\n",
    "chr_k4_sort = chr_k4.sort_index() # create table of chr sorted"
   ]
  },
  {
   "cell_type": "code",
   "execution_count": 5,
   "metadata": {},
   "outputs": [],
   "source": [
    "# create a series for chromosome data K9\n",
    "chr_k9 = df_k9.loc[:,\"chr\"]\n",
    "chr_k9 = chr_k9.value_counts()\n",
    "chr_k9_sort = chr_k9.sort_index() # create table of chr sorted"
   ]
  },
  {
   "cell_type": "code",
   "execution_count": 6,
   "metadata": {},
   "outputs": [
    {
     "name": "stdout",
     "output_type": "stream",
     "text": [
      "RangeIndex(start=0, stop=431, step=1)\n"
     ]
    }
   ],
   "source": [
    "# create a series for chromosome data K27\n",
    "chr_k27 = df_k27.loc[:,\"chr\"]\n",
    "print(chr_k27.index)\n",
    "chr_k27 = chr_k27.value_counts()\n",
    "chr_k27_sort = chr_k27.sort_index() # create table of chr sorted"
   ]
  },
  {
   "cell_type": "code",
   "execution_count": 8,
   "metadata": {},
   "outputs": [
    {
     "data": {
      "image/png": "[encoded data removed]",
      "text/plain": [
       "<Figure size 720x360 with 3 Axes>"
      ]
     },
     "metadata": {
      "needs_background": "light"
     },
     "output_type": "display_data"
    }
   ],
   "source": [
    "# create figure\n",
    "fig = plt.figure(figsize = (10.0,5.0))\n",
    "\n",
    "# set up axes and subplots\n",
    "(ax1, ax2, ax3) = fig.subplots(1, 3)\n",
    "\n",
    "# plot bar graphs with chr_k* index and values\n",
    "ax1.bar(chr_k4_sort.index, chr_k4_sort)\n",
    "ax2.bar(chr_k9_sort.index, chr_k9_sort)\n",
    "ax3.bar(chr_k27_sort.index, chr_k27_sort)\n",
    "\n",
    "# set titles\n",
    "ax1.set_title(\"K4\")\n",
    "ax2.set_title(\"K9\")\n",
    "ax3.set_title(\"K27\")\n",
    "\n",
    "# set xlabel\n",
    "ax1.set_xlabel(\"Chromosome\")\n",
    "ax2.set_xlabel(\"Chromosome\")\n",
    "ax3.set_xlabel(\"Chromosome\")\n",
    "\n",
    "# set ylabel\n",
    "ax1.set_ylabel(\"Frequency\")\n",
    "ax2.set_ylabel(\"Frequency\")\n",
    "ax3.set_ylabel(\"Frequency\")\n",
    "\n",
    "# set ticks and label to rotation of 45 deg\n",
    "ax1.set_xticks(range(0,8))\n",
    "ax1.set_xticklabels(chr_k4_sort.index,rotation=45, ha = 'right')\n",
    "ax2.set_xticks(range(0,8))\n",
    "ax2.set_xticklabels(chr_k9_sort.index,rotation=45, ha = 'right')\n",
    "ax3.set_xticks(range(0,7))\n",
    "ax3.set_xticklabels(chr_k27_sort.index,rotation=45, ha = 'right')\n",
    "\n",
    "# widen graph space\n",
    "fig.tight_layout(pad = 0.2)\n",
    "\n",
    "plt.show()"
   ]
  },
  {
   "cell_type": "code",
   "execution_count": null,
   "metadata": {},
   "outputs": [],
   "source": []
  }
 ],
 "metadata": {
  "kernelspec": {
   "display_name": "Python 3",
   "language": "python",
   "name": "python3"
  },
  "language_info": {
   "codemirror_mode": {
    "name": "ipython",
    "version": 3
   },
   "file_extension": ".py",
   "mimetype": "text/x-python",
   "name": "python",
   "nbconvert_exporter": "python",
   "pygments_lexer": "ipython3",
   "version": "3.6.10"
  }
 },
 "nbformat": 4,
 "nbformat_minor": 4
}
