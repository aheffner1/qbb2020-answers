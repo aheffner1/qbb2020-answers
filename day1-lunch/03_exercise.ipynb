{
 "cells": [
  {
   "cell_type": "markdown",
   "metadata": {},
   "source": [
    "# Load Packages"
   ]
  },
  {
   "cell_type": "code",
   "execution_count": 1,
   "metadata": {},
   "outputs": [],
   "source": [
    "import numpy as np\n",
    "import pandas as pd\n",
    "import matplotlib.pyplot as plt"
   ]
  },
  {
   "cell_type": "markdown",
   "metadata": {},
   "source": [
    "# Load Files K4me3, K9me3, K27me3"
   ]
  },
  {
   "cell_type": "code",
   "execution_count": 2,
   "metadata": {},
   "outputs": [],
   "source": [
    "bed_columns = [\"chr\", \"start\", \"end\"]\n",
    "#df_k4 = pd.read_table( \"/../../qbb2020/data/K4me3.bed\", names=bed_columns )\n",
    "df_k4 = pd.read_table( \"/Users/cmdb/qbb2020/data/K4me3.bed\", names=bed_columns )\n",
    "df_k9 = pd.read_table( \"/Users/cmdb/qbb2020/data/K9me3.bed\", names=bed_columns )\n",
    "df_k27 = pd.read_table( \"/Users/cmdb/qbb2020/data/K27me3.bed\", names=bed_columns )\n"
   ]
  },
  {
   "cell_type": "markdown",
   "metadata": {},
   "source": [
    "# Data Frames"
   ]
  },
  {
   "cell_type": "code",
   "execution_count": 3,
   "metadata": {},
   "outputs": [
    {
     "data": {
      "text/plain": [
       "Index(['chr', 'start', 'end'], dtype='object')"
      ]
     },
     "execution_count": 3,
     "metadata": {},
     "output_type": "execute_result"
    }
   ],
   "source": [
    "df_k27.columns"
   ]
  },
  {
   "cell_type": "code",
   "execution_count": 4,
   "metadata": {},
   "outputs": [
    {
     "data": {
      "text/plain": [
       "RangeIndex(start=0, stop=431, step=1)"
      ]
     },
     "execution_count": 4,
     "metadata": {},
     "output_type": "execute_result"
    }
   ],
   "source": [
    "df_k27.index"
   ]
  },
  {
   "cell_type": "code",
   "execution_count": 5,
   "metadata": {},
   "outputs": [
    {
     "data": {
      "text/plain": [
       "array([['2L', 5037, 9637],\n",
       "       ['2L', 322173, 326237],\n",
       "       ['2L', 365873, 398837],\n",
       "       ...,\n",
       "       ['X', 20824191, 20835255],\n",
       "       ['X', 20924791, 20953755],\n",
       "       ['X', 21464155, 21496991]], dtype=object)"
      ]
     },
     "execution_count": 5,
     "metadata": {},
     "output_type": "execute_result"
    }
   ],
   "source": [
    "df_k27.values"
   ]
  },
  {
   "cell_type": "code",
   "execution_count": 6,
   "metadata": {},
   "outputs": [
    {
     "data": {
      "text/plain": [
       "(431, 3)"
      ]
     },
     "execution_count": 6,
     "metadata": {},
     "output_type": "execute_result"
    }
   ],
   "source": [
    "df_k27.shape"
   ]
  },
  {
   "cell_type": "code",
   "execution_count": 7,
   "metadata": {},
   "outputs": [
    {
     "data": {
      "text/plain": [
       "'2L'"
      ]
     },
     "execution_count": 7,
     "metadata": {},
     "output_type": "execute_result"
    }
   ],
   "source": [
    "df_k27.loc[0,\"chr\"]"
   ]
  },
  {
   "cell_type": "code",
   "execution_count": 8,
   "metadata": {},
   "outputs": [
    {
     "data": {
      "text/plain": [
       "0      2L\n",
       "1      2L\n",
       "2      2L\n",
       "3      2L\n",
       "4      2L\n",
       "       ..\n",
       "426     X\n",
       "427     X\n",
       "428     X\n",
       "429     X\n",
       "430     X\n",
       "Name: chr, Length: 431, dtype: object"
      ]
     },
     "execution_count": 8,
     "metadata": {},
     "output_type": "execute_result"
    }
   ],
   "source": [
    "df_k27.loc[:,\"chr\"]"
   ]
  },
  {
   "cell_type": "markdown",
   "metadata": {},
   "source": [
    "# Chromosomes"
   ]
  },
  {
   "cell_type": "code",
   "execution_count": 9,
   "metadata": {},
   "outputs": [],
   "source": [
    "# create a series for chromosome data K4\n",
    "chr_k4 = df_k4.loc[:,\"chr\"]\n",
    "chr_k4 = chr_k4.value_counts()\n",
    "index = list(chr_k4.index.sort_values()) # create list of chr sorted\n",
    "\n",
    "# sorted alphanumerical for K4\n",
    "chr_k4_sort = pd.DataFrame(chr_k4, index = index)# reindex with the corresponding inde\n",
    "chr_k4_sort.index.name = 'chr_names'\n",
    "chr_k4_sort.reset_index(inplace = True) "
   ]
  },
  {
   "cell_type": "code",
   "execution_count": 10,
   "metadata": {},
   "outputs": [],
   "source": [
    "# create a series for chromosome data K9\n",
    "chr_k9 = df_k9.loc[:,\"chr\"]\n",
    "chr_k9 = chr_k9.value_counts()\n",
    "index = list(chr_k9.index.sort_values()) # create list of chr sorted\n",
    "\n",
    "# sorted alphanumerical for K9\n",
    "chr_k9_sort = pd.DataFrame(chr_k9, index = index)# reindex with the corresponding inde\n",
    "chr_k9_sort.index.name = 'chr_names'\n",
    "chr_k9_sort.reset_index(inplace = True) "
   ]
  },
  {
   "cell_type": "code",
   "execution_count": 20,
   "metadata": {},
   "outputs": [
    {
     "data": {
      "text/html": [
       "<div>\n",
       "<style scoped>\n",
       "    .dataframe tbody tr th:only-of-type {\n",
       "        vertical-align: middle;\n",
       "    }\n",
       "\n",
       "    .dataframe tbody tr th {\n",
       "        vertical-align: top;\n",
       "    }\n",
       "\n",
       "    .dataframe thead th {\n",
       "        text-align: right;\n",
       "    }\n",
       "</style>\n",
       "<table border=\"1\" class=\"dataframe\">\n",
       "  <thead>\n",
       "    <tr style=\"text-align: right;\">\n",
       "      <th></th>\n",
       "      <th>chr_names</th>\n",
       "      <th>chr</th>\n",
       "    </tr>\n",
       "  </thead>\n",
       "  <tbody>\n",
       "    <tr>\n",
       "      <th>0</th>\n",
       "      <td>2L</td>\n",
       "      <td>80</td>\n",
       "    </tr>\n",
       "    <tr>\n",
       "      <th>1</th>\n",
       "      <td>2R</td>\n",
       "      <td>102</td>\n",
       "    </tr>\n",
       "    <tr>\n",
       "      <th>2</th>\n",
       "      <td>3L</td>\n",
       "      <td>89</td>\n",
       "    </tr>\n",
       "    <tr>\n",
       "      <th>3</th>\n",
       "      <td>3R</td>\n",
       "      <td>90</td>\n",
       "    </tr>\n",
       "    <tr>\n",
       "      <th>4</th>\n",
       "      <td>4</td>\n",
       "      <td>5</td>\n",
       "    </tr>\n",
       "    <tr>\n",
       "      <th>5</th>\n",
       "      <td>Un_CP007080v1</td>\n",
       "      <td>1</td>\n",
       "    </tr>\n",
       "    <tr>\n",
       "      <th>6</th>\n",
       "      <td>X</td>\n",
       "      <td>64</td>\n",
       "    </tr>\n",
       "  </tbody>\n",
       "</table>\n",
       "</div>"
      ],
      "text/plain": [
       "       chr_names  chr\n",
       "0             2L   80\n",
       "1             2R  102\n",
       "2             3L   89\n",
       "3             3R   90\n",
       "4              4    5\n",
       "5  Un_CP007080v1    1\n",
       "6              X   64"
      ]
     },
     "execution_count": 20,
     "metadata": {},
     "output_type": "execute_result"
    }
   ],
   "source": [
    "# create a series for chromosome data K27\n",
    "chr_k27 = df_k27.loc[:,\"chr\"]\n",
    "chr_k27 = chr_k27.value_counts()\n",
    "index = list(chr_k27.index.sort_values()) # create list of chr sorted\n",
    "\n",
    "# sorted alphanumerical for K27\n",
    "chr_k27_sort = pd.DataFrame(chr_k27, index = index)# reindex with the corresponding inde\n",
    "chr_k27_sort.index.name = 'chr_names'\n",
    "chr_k27_sort.reset_index(inplace = True) \n",
    "chr_k27_sort"
   ]
  },
  {
   "cell_type": "code",
   "execution_count": 12,
   "metadata": {},
   "outputs": [
    {
     "data": {
      "text/plain": [
       "713"
      ]
     },
     "execution_count": 12,
     "metadata": {},
     "output_type": "execute_result"
    }
   ],
   "source": [
    "chr_k4.loc[\"2L\"]"
   ]
  },
  {
   "cell_type": "code",
   "execution_count": 13,
   "metadata": {},
   "outputs": [
    {
     "data": {
      "text/plain": [
       "2L    713\n",
       "2R    799\n",
       "Name: chr, dtype: int64"
      ]
     },
     "execution_count": 13,
     "metadata": {},
     "output_type": "execute_result"
    }
   ],
   "source": [
    "coi = [\"2L\", \"2R\"]\n",
    "chr_k4.loc[ coi ]"
   ]
  },
  {
   "cell_type": "code",
   "execution_count": 14,
   "metadata": {},
   "outputs": [
    {
     "data": {
      "text/plain": [
       "RangeIndex(start=0, stop=8, step=1)"
      ]
     },
     "execution_count": 14,
     "metadata": {},
     "output_type": "execute_result"
    }
   ],
   "source": [
    "chr_k4_sort.index"
   ]
  },
  {
   "cell_type": "code",
   "execution_count": 55,
   "metadata": {},
   "outputs": [
    {
     "data": {
      "image/png": "[encoded data removed]",
      "text/plain": [
       "<Figure size 720x216 with 3 Axes>"
      ]
     },
     "metadata": {
      "needs_background": "light"
     },
     "output_type": "display_data"
    }
   ],
   "source": [
    "fig = plt.figure(figsize = (10.0,3.0))\n",
    "\n",
    "(ax1, ax2, ax3) = fig.subplots(1, 3)\n",
    "\n",
    "ax1.bar(chr_k4_sort[\"chr_names\"], chr_k4_sort[\"chr\"])\n",
    "ax2.bar(chr_k9_sort[\"chr_names\"], chr_k9_sort[\"chr\"])\n",
    "ax3.bar(chr_k27_sort[\"chr_names\"], chr_k27_sort[\"chr\"])\n",
    "\n",
    "ax1.set_title(\"K4\")\n",
    "ax2.set_title(\"K9\")\n",
    "ax3.set_title(\"K27\")\n",
    "\n",
    "ax1.set_xlabel(\"Chromosome\")\n",
    "ax2.set_xlabel(\"Chromosome\")\n",
    "ax3.set_xlabel(\"Chromosome\")\n",
    "\n",
    "ax1.set_ylabel(\"Frequency\")\n",
    "ax2.set_ylabel(\"Frequency\")\n",
    "ax3.set_ylabel(\"Frequency\")\n",
    "\n",
    "# ax1.set_xticklabel(rotation=45) cannot figure out how to rotate x-labels\n",
    "\n",
    "plt.show()"
   ]
  },
  {
   "cell_type": "code",
   "execution_count": null,
   "metadata": {},
   "outputs": [],
   "source": []
  }
 ],
 "metadata": {
  "kernelspec": {
   "display_name": "Python 3",
   "language": "python",
   "name": "python3"
  },
  "language_info": {
   "codemirror_mode": {
    "name": "ipython",
    "version": 3
   },
   "file_extension": ".py",
   "mimetype": "text/x-python",
   "name": "python",
   "nbconvert_exporter": "python",
   "pygments_lexer": "ipython3",
   "version": "3.6.10"
  }
 },
 "nbformat": 4,
 "nbformat_minor": 4
}
