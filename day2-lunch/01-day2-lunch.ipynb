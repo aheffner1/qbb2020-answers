{
 "cells": [
  {
   "cell_type": "markdown",
   "metadata": {},
   "source": [
    "# Mapping FlyBase genes to UniPro"
   ]
  },
  {
   "cell_type": "code",
   "execution_count": 1,
   "metadata": {},
   "outputs": [],
   "source": [
    "# open file fly.txt as read\n",
    "fs = open('/Users/cmdb/qbb2020/day2/fly.txt', 'r')\n",
    "# open new file called fly_genetoprot as write\n",
    "write_file = open('/Users/cmdb/qbb2020-answers/day2-lunch/fly_genetoprot.txt', 'w')"
   ]
  },
  {
   "cell_type": "code",
   "execution_count": 2,
   "metadata": {},
   "outputs": [
    {
     "name": "stdout",
     "output_type": "stream",
     "text": [
      "3685\n"
     ]
    }
   ],
   "source": [
    "# initialize variable count\n",
    "count = 0\n",
    "# for loop through each line in fs\n",
    "for line in fs:  \n",
    "    # strip and split by whitespace and save as list in variable fly\n",
    "    fly = list(line.strip().split())\n",
    "    # if there 'DROME' is not in line do not complete rest of script\n",
    "    if 'DROME' not in line: \n",
    "        continue\n",
    "    # if the fly has more than 3 columns then save column 2 as uniprot and column 3 as flybase\n",
    "    if len(fly) > 3:\n",
    "        uniprot = str(fly[2])\n",
    "        flybase = str(fly[3])\n",
    "        # string together include some white space\n",
    "        string = flybase +'\\t'+ uniprot +'\\n'\n",
    "        # write string to file \n",
    "        write_file.write(string)\n",
    "        # count is the length of write_file\n",
    "        count += 1\n",
    "# close fs\n",
    "fs.close()\n",
    "# print count\n",
    "print(count)\n",
    "# close write_file\n",
    "write_file.close()"
   ]
  },
  {
   "cell_type": "code",
   "execution_count": null,
   "metadata": {},
   "outputs": [],
   "source": []
  },
  {
   "cell_type": "code",
   "execution_count": null,
   "metadata": {},
   "outputs": [],
   "source": []
  }
 ],
 "metadata": {
  "kernelspec": {
   "display_name": "Python 3",
   "language": "python",
   "name": "python3"
  },
  "language_info": {
   "codemirror_mode": {
    "name": "ipython",
    "version": 3
   },
   "file_extension": ".py",
   "mimetype": "text/x-python",
   "name": "python",
   "nbconvert_exporter": "python",
   "pygments_lexer": "ipython3",
   "version": "3.6.10"
  }
 },
 "nbformat": 4,
 "nbformat_minor": 4
}
