{
 "cells": [
  {
   "cell_type": "code",
   "execution_count": 1,
   "metadata": {},
   "outputs": [],
   "source": [
    "fs = open('/Users/cmdb/qbb2020/day2/fly.txt', 'r')\n",
    "write_file = open('/Users/cmdb/qbb2020-answers/day2-lunch/fly_genetoprot.txt', 'w')"
   ]
  },
  {
   "cell_type": "code",
   "execution_count": 2,
   "metadata": {},
   "outputs": [
    {
     "name": "stdout",
     "output_type": "stream",
     "text": [
      "3685\n"
     ]
    }
   ],
   "source": [
    "count = 0\n",
    "for line in fs: \n",
    "    fly = list(line.strip().split())\n",
    "    if 'DROME' not in line: \n",
    "        continue\n",
    "    if len(fly) > 3:\n",
    "        uniprot = str(fly[2])\n",
    "        flybase = str(fly[3])\n",
    "        string = flybase +'\\t'+ uniprot +'\\n'\n",
    "        write_file.write(string)\n",
    "        count += 1\n",
    "fs.close()\n",
    "print(count)\n",
    "write_file.close()"
   ]
  },
  {
   "cell_type": "code",
   "execution_count": null,
   "metadata": {},
   "outputs": [],
   "source": []
  },
  {
   "cell_type": "code",
   "execution_count": null,
   "metadata": {},
   "outputs": [],
   "source": []
  }
 ],
 "metadata": {
  "kernelspec": {
   "display_name": "Python 3",
   "language": "python",
   "name": "python3"
  },
  "language_info": {
   "codemirror_mode": {
    "name": "ipython",
    "version": 3
   },
   "file_extension": ".py",
   "mimetype": "text/x-python",
   "name": "python",
   "nbconvert_exporter": "python",
   "pygments_lexer": "ipython3",
   "version": "3.6.10"
  }
 },
 "nbformat": 4,
 "nbformat_minor": 4
}
