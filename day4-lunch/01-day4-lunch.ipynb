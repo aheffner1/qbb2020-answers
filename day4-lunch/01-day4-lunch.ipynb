{
 "cells": [
  {
   "cell_type": "markdown",
   "metadata": {},
   "source": [
    "# Question One: Implement Binary Search"
   ]
  },
  {
   "cell_type": "code",
   "execution_count": 1,
   "metadata": {},
   "outputs": [
    {
     "name": "stdout",
     "output_type": "stream",
     "text": [
      "The gene \"tin\" is closest to chromosome 3R position 21,378,950.\n",
      "It is  27 bp away.\n",
      "Number of iterations: 11\n"
     ]
    }
   ],
   "source": [
    "# open file \n",
    "fs = open('/Users/cmdb/qbb2020-answers/day4-lunch/BDGP6.Ensembl.81.gtf', 'r')\n",
    "\n",
    "pc_gene = []\n",
    "\n",
    "for index, line in enumerate(fs):\n",
    "    if 'protein_coding' not in line:\n",
    "        continue\n",
    "    \n",
    "    dros_genome = list(line.strip().split())\n",
    "    index_gname = dros_genome.index('gene_name') \n",
    "    gene_name = dros_genome[index_gname + 1]\n",
    "    gene_name = gene_name.strip(';')\n",
    "    \n",
    "    if (dros_genome[0] == '3R') and (dros_genome[2] == 'gene'):\n",
    "        # pc_gene has gene name, start, end    \n",
    "        pc_gene.append([gene_name, int(dros_genome[3]), int(dros_genome[4])])\n",
    "        \n",
    "fs.close()\n",
    "\n",
    "length_pc_gene = len(pc_gene)\n",
    "search_pos = int(21378950)\n",
    "\n",
    "low = 0\n",
    "high = length_pc_gene - 1\n",
    "mid = int((low + high)/2)\n",
    "\n",
    "count = 0\n",
    "\n",
    "while True: \n",
    "    if high == low + 1:\n",
    "        low_gene_diff = search_pos - pc_gene[low][2]\n",
    "        high_gene_diff = pc_gene[high][1] - search_pos\n",
    "        if low_gene_diff > high_gene_diff:\n",
    "            output = pc_gene[high][0]\n",
    "            print('The gene', output, 'is closest to chromosome 3R position 21,378,950.')\n",
    "            print('It is ', high_gene_diff, 'bp away.')\n",
    "            break\n",
    "        else:\n",
    "            output = pc_gene[high][0]\n",
    "            print('The gene: ', output, 'is closest to chromosome 3R position 21,378,950.')\n",
    "            print('It is ', low_gene_diff, 'bp away.')\n",
    "            break\n",
    "    if search_pos < pc_gene[mid][1]:\n",
    "        high = mid\n",
    "        mid = int((low + high)/2)\n",
    "    elif search_pos > pc_gene[mid][2]:\n",
    "        low = mid\n",
    "        mid = int((low + high)/2)\n",
    "    else: \n",
    "        output = pc_gene[mid][0]\n",
    "        print('The gene: ', output, 'is closest to chromosome 3R position 21,378,950.')\n",
    "        print(' Start:', pc_gene[mid][1], ' Stop:', pc_gene[mid][2])\n",
    "        break\n",
    "    count += 1\n",
    "print('Number of iterations:', count)"
   ]
  },
  {
   "cell_type": "code",
   "execution_count": null,
   "metadata": {},
   "outputs": [],
   "source": []
  }
 ],
 "metadata": {
  "kernelspec": {
   "display_name": "Python 3",
   "language": "python",
   "name": "python3"
  },
  "language_info": {
   "codemirror_mode": {
    "name": "ipython",
    "version": 3
   },
   "file_extension": ".py",
   "mimetype": "text/x-python",
   "name": "python",
   "nbconvert_exporter": "python",
   "pygments_lexer": "ipython3",
   "version": "3.6.10"
  }
 },
 "nbformat": 4,
 "nbformat_minor": 4
}
