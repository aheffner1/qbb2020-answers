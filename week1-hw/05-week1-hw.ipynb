{
 "cells": [
  {
   "cell_type": "markdown",
   "metadata": {},
   "source": [
    "# Question 5. Decoding the insertion [20 pts]"
   ]
  },
  {
   "cell_type": "markdown",
   "metadata": {},
   "source": [
    "### Question 5a. What is the position of the insertion on the reference? [Hint: try show-coords]"
   ]
  },
  {
   "cell_type": "markdown",
   "metadata": {},
   "source": [
    "Answers: Inserted between position 26789 and 26790 in the reference sequence\n",
    "\n",
    "Command Line: \n",
    "   show-coords out.delta\n",
    "    \n",
    "   Prints table with first (s1, e1) relating to the start and stop of alignment in the reference sequence (s2, e2)\n",
    "   is start and stop of the query sequence. Since there is a break in alignment of NODE 3 for query but not in ref\n",
    "   there must be an insertion there after position 26789 in the ref genome."
   ]
  },
  {
   "cell_type": "markdown",
   "metadata": {},
   "source": [
    "### Question 5b. How long is the novel insertion? [Hint: try show-coords]"
   ]
  },
  {
   "cell_type": "code",
   "execution_count": 6,
   "metadata": {},
   "outputs": [
    {
     "name": "stdout",
     "output_type": "stream",
     "text": [
      "The length of the novel insertion is 712 bp.\n"
     ]
    }
   ],
   "source": [
    "length = 14565 - 13854 + 1\n",
    "print('The length of the novel insertion is', length, 'bp.')"
   ]
  },
  {
   "cell_type": "markdown",
   "metadata": {},
   "source": [
    "The length of the novel insertion is the end of the first alignment of NODE 3 \n",
    "minus the start of the second alignment in NODE 3. \n",
    "Same command as 5a. "
   ]
  },
  {
   "cell_type": "markdown",
   "metadata": {},
   "source": [
    "### Question 5c. What is the DNA sequence of the encoded message? [Hint: try samtools faidx to extract the insertion]"
   ]
  },
  {
   "cell_type": "markdown",
   "metadata": {},
   "source": [
    "Answer: \n",
    ">NODE_3_length_41352_cov_20.588756:13854-14565\n",
    "TAACGATTTACATCGGGAAAGCTTAATGCAATTCACGCAGATATTCAGCTTAGAAGGTAC\n",
    "GCAGCGGTGACGGGGTGCGGTCCATAATCTATGAAGCTATGAATTCGTACCTCAAGTAAT\n",
    "GTTTTCTTCGCTGCAGTTCAGAAGTGATAAAGGTATCCCGCTTAGCCTGGCATACTTTGT\n",
    "GCGTTCGTACCGCCCAGCATTAATGACTTGTGTAGGCAAGTAATGAACGACTCTTCTACG\n",
    "CCGCGCCTAACCTCCGCACATAATGGCAGCATGTGGTAGTTACATACGCACAGAAGTGGT\n",
    "TCGGTTTTAACTATAGTCAGATATGAATAAGCTGCGTGTGTCGTTGTGTCGGCGTGTCGT\n",
    "ACTTACCTCCTGACATAGGTGAATTTCAGCCTACTGTAAGTTTGGAGTCGCGCTCTTTTC\n",
    "TTATTATATTCTTTGGTATGTGTGTGATGGGTTCGGGCGTGTATTGATGTCTCTAAGGCT\n",
    "CATGTTAGTGTTTATTTGGTCAGTTATGACGGTGTTCCTGTCGTACGTGTTGGCTTAGCG\n",
    "GACTTGTAGACGGGATCAAGGTTGTCTGACCCTCCGGTCGACCGTGGGTCGGCCGTCCCG\n",
    "GCCAGAATACAAGCCGCTTAGACTTTCGAAAGAGGGTAAGTTACTACGCGCGAACGTTAT\n",
    "ACCTCGTTTCAGTATGCACTCCCTTAAGTCACTCAGAAAAGACTAAGGGGCT</font>\n",
    "\n",
    "**Command line:**   \n",
    "samtools faidx asm/contigs.fasta NODE_3_length_41352_cov_20.588756:13854-14565 > insert.fasta"
   ]
  },
  {
   "cell_type": "markdown",
   "metadata": {},
   "source": [
    "### Question 5d. What is the secret message? [Hint: Use the provided script dna-decode.py to decode the string from 5c]"
   ]
  },
  {
   "cell_type": "markdown",
   "metadata": {},
   "source": [
    "The decoded message :  Congratulations to the 2020 CMDB @ JHU class!  Keep on looking for little green aliens...\n",
    "\n",
    "**Command line:**\n",
    "python ported_decoder.py -d --rev_comp --input insert.fasta"
   ]
  },
  {
   "cell_type": "code",
   "execution_count": null,
   "metadata": {},
   "outputs": [],
   "source": []
  }
 ],
 "metadata": {
  "kernelspec": {
   "display_name": "Python 3",
   "language": "python",
   "name": "python3"
  },
  "language_info": {
   "codemirror_mode": {
    "name": "ipython",
    "version": 3
   },
   "file_extension": ".py",
   "mimetype": "text/x-python",
   "name": "python",
   "nbconvert_exporter": "python",
   "pygments_lexer": "ipython3",
   "version": "3.6.10"
  }
 },
 "nbformat": 4,
 "nbformat_minor": 4
}
