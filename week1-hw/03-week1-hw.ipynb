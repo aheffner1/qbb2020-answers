{
 "cells": [
  {
   "cell_type": "markdown",
   "metadata": {},
   "source": [
    " # Week one: De novo assembly (Q3) "
   ]
  },
  {
   "cell_type": "markdown",
   "metadata": {},
   "source": [
    "### Question 3a. How many contigs were produced? [Hint: try grep -c '>' contigs.fasta]"
   ]
  },
  {
   "cell_type": "markdown",
   "metadata": {},
   "source": [
    "<font color=blue>Answer: 4</font>  \n",
    "\n",
    "**Command line:**  \n",
    "grep -c '>' contigs.fasta  "
   ]
  },
  {
   "cell_type": "markdown",
   "metadata": {},
   "source": [
    "### Question 3b. What is the total length of the contigs? [Hint: try samtools faidx, plus a short script if necessary]"
   ]
  },
  {
   "cell_type": "code",
   "execution_count": 13,
   "metadata": {},
   "outputs": [
    {
     "name": "stdout",
     "output_type": "stream",
     "text": [
      "Answer: Total length of contigs =  234467 bp\n"
     ]
    }
   ],
   "source": [
    "contigs = [105831, 47861, 41352, 39423]\n",
    "\n",
    "\n",
    "total_contigs = sum(contigs)\n",
    "print(\"Answer: Total length of contigs = \", total_contigs, \"bp\")"
   ]
  },
  {
   "cell_type": "markdown",
   "metadata": {},
   "source": [
    "**Command Line:**  \n",
    "samtools faidx contigs.fasta   \n",
    "cat contigs.fasta.fai"
   ]
  },
  {
   "cell_type": "markdown",
   "metadata": {},
   "source": [
    "### Question 3c. What is the size of your largest contig? [Hint: check samtools faidx plus sort -n]"
   ]
  },
  {
   "cell_type": "markdown",
   "metadata": {},
   "source": [
    "<font color=blue>size of largest contig = 105831</font>\n",
    "\n",
    "**Command line:**  \n",
    "sort -r -nk 2 contigs.fasta.fai \n",
    "Note: the contigs are already in order before doing this"
   ]
  },
  {
   "cell_type": "markdown",
   "metadata": {},
   "source": [
    "### Question 3d. What is the contig N50 size? [Hint: Write a short script if necessary]"
   ]
  },
  {
   "cell_type": "code",
   "execution_count": 24,
   "metadata": {},
   "outputs": [
    {
     "name": "stdout",
     "output_type": "stream",
     "text": [
      "N50 is :  47861\n"
     ]
    }
   ],
   "source": [
    "# half of the total length of contigs\n",
    "half_tot_len_contigs = 0.5*total_contigs\n",
    "# initialize sum\n",
    "sum_len = 0\n",
    "# make sure contig lengths are sorted with biggest first\n",
    "contigs = sorted(contigs,reverse=True)\n",
    "# loop through each contig\n",
    "for contig in contigs:\n",
    "    # add contig length to previous\n",
    "    sum_len = contig + sum_len\n",
    "    # until the sum is greater than half of the total length of contigs\n",
    "    if sum_len > half_tot_len_contigs:\n",
    "        # the length of the contig at this point is the N50\n",
    "        print('N50 is : ', contig)\n",
    "        # stop, no need to go further\n",
    "        break"
   ]
  }
 ],
 "metadata": {
  "kernelspec": {
   "display_name": "Python 3",
   "language": "python",
   "name": "python3"
  },
  "language_info": {
   "codemirror_mode": {
    "name": "ipython",
    "version": 3
   },
   "file_extension": ".py",
   "mimetype": "text/x-python",
   "name": "python",
   "nbconvert_exporter": "python",
   "pygments_lexer": "ipython3",
   "version": "3.6.10"
  }
 },
 "nbformat": 4,
 "nbformat_minor": 4
}
