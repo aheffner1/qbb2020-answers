{
 "cells": [
  {
   "cell_type": "markdown",
   "metadata": {},
   "source": [
    "## Week one: Kmer Analysis "
   ]
  },
  {
   "cell_type": "markdown",
   "metadata": {},
   "source": [
    "### Question 2a. How many kmers occur exactly 50 times? [Hint: try jellyfish histo]"
   ]
  },
  {
   "cell_type": "markdown",
   "metadata": {},
   "source": [
    "<font color=blue>Answer: 1091 kmers occur 50 times</font>\n",
    "\n",
    "**Command line:**  \n",
    "     jelly fish count (-m = number of kmers) (-C = both strands) (-s hashsize) ( look at all fq files )  \n",
    "     jellyfish count -m 21 -C -s 1000000 *.fq  \n",
    "     jellyfish histo mer_counts.jf > reads.histo  \n",
    "     head -100 reads.histo | less -S   \n",
    "number of kmers that show up exactly 50 times in column next to 50  "
   ]
  },
  {
   "cell_type": "markdown",
   "metadata": {},
   "source": [
    "### Question 2b. What are the top 10 most frequently occurring kmers [Hint: try jellyfish dump along with sort and head]"
   ]
  },
  {
   "cell_type": "markdown",
   "metadata": {},
   "source": [
    "<font color=blue> GCATCGCCCACATGTGGGCGA 82    \n",
    "AGCATCGCCCACATGTGGGCG 83  \n",
    "AGGCCAGCTTATAAGCTGGCC 95  \n",
    "ACAGGCCAGCTTATAAGCTGG 97  \n",
    "AACAGGCCAGCTTATAAGCTG 98  \n",
    "CAGGCCAGCTTATAAGCTGGC 98  \n",
    "ACGGCGCCCACTAATTAGTGG 101  \n",
    "CCCACTAATTAGTGGGCGCCG 104  \n",
    "CGCCCACTAATTAGTGGGCGC 104  \n",
    "GCCCACTAATTAGTGGGCGCC 105 </font>\n",
    "\n",
    "**Commands:**  \n",
    "    jellyfish dump -c mer_counts.jf | sort -nk 2 > sorted.dump  \n",
    "    tail - 10 sorted.dump | less -S  "
   ]
  },
  {
   "cell_type": "markdown",
   "metadata": {},
   "source": [
    "### Question 2c. What is the estimated genome size based on the kmer frequencies? [Hint: upload the jellyfish histogram to GenomeScope and report the min “Genome Haploid Length” in the “Results” section]"
   ]
  },
  {
   "cell_type": "markdown",
   "metadata": {},
   "source": [
    "<font color=blue> Genome Haploid Length         min = 233,468 bp </font>  \n",
    "<font color=red>question - why use haploid?</font>"
   ]
  },
  {
   "cell_type": "markdown",
   "metadata": {},
   "source": [
    "### Question 2d. How well does the GenomeScope genome size estimate compare to the reference genome? [Hint: In a sentence or two]"
   ]
  },
  {
   "cell_type": "markdown",
   "metadata": {},
   "source": [
    "The reference genome is 233806 bases, the estimated size is between 233,468 bp - 233,805 bp.   \n",
    "The reference genome is slightly above the estimated size based on the fragment reads, but close in general size. "
   ]
  },
  {
   "cell_type": "code",
   "execution_count": null,
   "metadata": {},
   "outputs": [],
   "source": []
  }
 ],
 "metadata": {
  "kernelspec": {
   "display_name": "Python 3",
   "language": "python",
   "name": "python3"
  },
  "language_info": {
   "codemirror_mode": {
    "name": "ipython",
    "version": 3
   },
   "file_extension": ".py",
   "mimetype": "text/x-python",
   "name": "python",
   "nbconvert_exporter": "python",
   "pygments_lexer": "ipython3",
   "version": "3.6.10"
  }
 },
 "nbformat": 4,
 "nbformat_minor": 4
}
