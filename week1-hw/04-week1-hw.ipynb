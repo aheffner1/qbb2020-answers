{
 "cells": [
  {
   "cell_type": "markdown",
   "metadata": {},
   "source": [
    "# Week one: genome assembly\n",
    "## Question 4. Whole Genome Alignment "
   ]
  },
  {
   "cell_type": "markdown",
   "metadata": {},
   "source": [
    "### Question 4a. What is the average identify of your assembly compared to the reference? [Hint: try dnadiff]"
   ]
  },
  {
   "cell_type": "markdown",
   "metadata": {},
   "source": [
    "<font color=blue>Answer: Average Identity = 100%</font>  \n",
    "\n",
    "**Command line:**  \n",
    "in directory - /Users/cmdb/qbb2020-answers/week1-hw/asm/ \n",
    "\n",
    "dnadiff ref.fa asm/contigs.fasta  \n",
    "cat out.report"
   ]
  },
  {
   "cell_type": "markdown",
   "metadata": {},
   "source": [
    "### Question 4b. What is the length of the longest alignment [Hint: try nucmer and show-coords]"
   ]
  },
  {
   "cell_type": "markdown",
   "metadata": {},
   "source": [
    "<font color=blue>Answer: length of the longest alignment is 105831 bp.</font>   \n",
    "\n",
    "**Command line:**  \n",
    "    nucmer ref.fa asm/contigs.fasta   \n",
    "    show-coords out.delta  "
   ]
  },
  {
   "cell_type": "markdown",
   "metadata": {},
   "source": [
    "### Question 4c. How many insertions and deletions are in the assembly? [Hint: try dnadiff]"
   ]
  },
  {
   "cell_type": "markdown",
   "metadata": {},
   "source": [
    "<font color=blue>Answer: There are 6 total insertions and deletions.</font>  \n",
    "\n",
    "**Command line:**  \n",
    "cat out.report  \n",
    "*Then look at insertions in ref and contigs, there are 5 in the ref and 1 in the contigs*  \n",
    "*This means that there could be 5 deletions in the assembled genome and 1 insertion*"
   ]
  },
  {
   "cell_type": "code",
   "execution_count": null,
   "metadata": {},
   "outputs": [],
   "source": []
  }
 ],
 "metadata": {
  "kernelspec": {
   "display_name": "Python 3",
   "language": "python",
   "name": "python3"
  },
  "language_info": {
   "codemirror_mode": {
    "name": "ipython",
    "version": 3
   },
   "file_extension": ".py",
   "mimetype": "text/x-python",
   "name": "python",
   "nbconvert_exporter": "python",
   "pygments_lexer": "ipython3",
   "version": "3.6.10"
  }
 },
 "nbformat": 4,
 "nbformat_minor": 4
}
