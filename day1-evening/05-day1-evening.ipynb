{
 "cells": [
  {
   "cell_type": "markdown",
   "metadata": {},
   "source": [
    "# Count number of reads that start their alignment on chromosome 2L between base 10000 and 20000"
   ]
  },
  {
   "cell_type": "code",
   "execution_count": 1,
   "metadata": {},
   "outputs": [],
   "source": [
    "# open file\n",
    "fs = open(\"/Users/cmdb/qbb2020-answers/day1-evening/SRR072893.sam\", 'r')"
   ]
  },
  {
   "cell_type": "code",
   "execution_count": 2,
   "metadata": {},
   "outputs": [],
   "source": [
    "# initialize variables\n",
    "SSR07 = []\n",
    "count = 0"
   ]
  },
  {
   "cell_type": "code",
   "execution_count": 3,
   "metadata": {},
   "outputs": [],
   "source": [
    "# loop through each line of fs\n",
    "for line in fs:\n",
    "    SSR07 = line.split() # split line by whitespace\n",
    "    chrm = SSR07[2] # chromosome is column 2\n",
    "    start = int(SSR07[3]) # start is column 3\n",
    "    \n",
    "    # if chrm = 2L and start is between 10000 and 20000\n",
    "    if chrm == '2L' and  start >= 10000 and start<= 20000:\n",
    "        count += 1 # then add one to count"
   ]
  },
  {
   "cell_type": "code",
   "execution_count": 4,
   "metadata": {},
   "outputs": [
    {
     "name": "stdout",
     "output_type": "stream",
     "text": [
      "7550\n"
     ]
    }
   ],
   "source": [
    "# print count\n",
    "print(count)\n",
    "# close file\n",
    "fs.close()"
   ]
  }
 ],
 "metadata": {
  "kernelspec": {
   "display_name": "Python 3",
   "language": "python",
   "name": "python3"
  },
  "language_info": {
   "codemirror_mode": {
    "name": "ipython",
    "version": 3
   },
   "file_extension": ".py",
   "mimetype": "text/x-python",
   "name": "python",
   "nbconvert_exporter": "python",
   "pygments_lexer": "ipython3",
   "version": "3.6.10"
  }
 },
 "nbformat": 4,
 "nbformat_minor": 4
}
