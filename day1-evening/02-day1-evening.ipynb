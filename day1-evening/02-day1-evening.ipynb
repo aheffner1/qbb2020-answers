{
 "cells": [
  {
   "cell_type": "markdown",
   "metadata": {},
   "source": [
    "# Count number of alignments that match perfectly to the genome"
   ]
  },
  {
   "cell_type": "code",
   "execution_count": 1,
   "metadata": {},
   "outputs": [],
   "source": [
    "# open file \n",
    "fs = open(\"/Users/cmdb/qbb2020-answers/day1-evening/SRR072893.sam\", 'r')\n",
    "# initialize count variable\n",
    "count = 0"
   ]
  },
  {
   "cell_type": "code",
   "execution_count": 2,
   "metadata": {},
   "outputs": [],
   "source": [
    "# for loop each line of fs\n",
    "for line in fs:\n",
    "    # split line by whitespace and store in SSR07\n",
    "    SSR07 = line.split()\n",
    "    # if 'NM' is 0 - the sequence is an exact match\n",
    "    if 'NM:i:0' in SSR07: \n",
    "        count +=1         #then add one to count"
   ]
  },
  {
   "cell_type": "code",
   "execution_count": 3,
   "metadata": {},
   "outputs": [
    {
     "name": "stdout",
     "output_type": "stream",
     "text": [
      "1702765\n"
     ]
    }
   ],
   "source": [
    "# print out count\n",
    "print(count)\n",
    "# close file\n",
    "fs.close()"
   ]
  }
 ],
 "metadata": {
  "kernelspec": {
   "display_name": "Python 3",
   "language": "python",
   "name": "python3"
  },
  "language_info": {
   "codemirror_mode": {
    "name": "ipython",
    "version": 3
   },
   "file_extension": ".py",
   "mimetype": "text/x-python",
   "name": "python",
   "nbconvert_exporter": "python",
   "pygments_lexer": "ipython3",
   "version": "3.6.10"
  }
 },
 "nbformat": 4,
 "nbformat_minor": 4
}
