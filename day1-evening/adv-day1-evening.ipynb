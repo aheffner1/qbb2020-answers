{
 "cells": [
  {
   "cell_type": "markdown",
   "metadata": {},
   "source": [
    "# Advanced Exercises"
   ]
  },
  {
   "cell_type": "code",
   "execution_count": 1,
   "metadata": {},
   "outputs": [],
   "source": [
    "# QUESTION 1: How many reads map to the reverse strand? sam flag 0x10 bit\n",
    "# QUESTION 2: Determine how many reads have an average quality score >30\n",
    "# QUESTION 3: Count the number of indels of length 1, 2, 3, 4, greater than 4"
   ]
  },
  {
   "cell_type": "code",
   "execution_count": 2,
   "metadata": {},
   "outputs": [],
   "source": [
    "# open file\n",
    "fs = open(\"/Users/cmdb/qbb2020-answers/day1-evening/SRR072893.sam\", 'r')"
   ]
  },
  {
   "cell_type": "code",
   "execution_count": 3,
   "metadata": {},
   "outputs": [],
   "source": [
    "# initialize variables\n",
    "SRR07 = []\n",
    "count_rseq = 0\n",
    "count_qual_score = 0\n",
    "count_indel = 0"
   ]
  },
  {
   "cell_type": "code",
   "execution_count": 4,
   "metadata": {},
   "outputs": [],
   "source": [
    "# loop through each line of fs\n",
    "for line in fs:\n",
    "    SRR07 = line.split() # split line by whitespace\n",
    "    flag = int(SRR07[1])\n",
    "    mapq = int(SRR07[4])\n",
    "    cigar = SRR07[5]\n",
    "    # if flag = 16 it is a reverse complemented alignment\n",
    "    if flag == 16:\n",
    "        count_rseq += 1 # then add one to count\n",
    "    if mapq > 30:\n",
    "        count_qual_score +=1\n",
    "    if 'I' and 'D' in cigar: \n",
    "        count_indel += 1"
   ]
  },
  {
   "cell_type": "code",
   "execution_count": 7,
   "metadata": {},
   "outputs": [
    {
     "name": "stdout",
     "output_type": "stream",
     "text": [
      "Reads that map to reverse strand:  986862\n",
      "Reads that have avg quality score > 30: 1987841\n",
      "Reads with insertions and deletions greater than 1: 2172\n"
     ]
    }
   ],
   "source": [
    "# print count\n",
    "print('Reads that map to reverse strand: ', count_rseq)\n",
    "print('Reads that have avg quality score > 30:', count_qual_score)\n",
    "print('Reads with insertions and deletions greater than 1:', count_indel)"
   ]
  },
  {
   "cell_type": "code",
   "execution_count": 6,
   "metadata": {},
   "outputs": [],
   "source": [
    "# close file\n",
    "fs.close()"
   ]
  },
  {
   "cell_type": "code",
   "execution_count": null,
   "metadata": {},
   "outputs": [],
   "source": []
  },
  {
   "cell_type": "code",
   "execution_count": null,
   "metadata": {},
   "outputs": [],
   "source": []
  },
  {
   "cell_type": "code",
   "execution_count": null,
   "metadata": {},
   "outputs": [],
   "source": []
  },
  {
   "cell_type": "code",
   "execution_count": null,
   "metadata": {},
   "outputs": [],
   "source": []
  },
  {
   "cell_type": "code",
   "execution_count": null,
   "metadata": {},
   "outputs": [],
   "source": []
  },
  {
   "cell_type": "code",
   "execution_count": null,
   "metadata": {},
   "outputs": [],
   "source": []
  }
 ],
 "metadata": {
  "kernelspec": {
   "display_name": "Python 3",
   "language": "python",
   "name": "python3"
  },
  "language_info": {
   "codemirror_mode": {
    "name": "ipython",
    "version": 3
   },
   "file_extension": ".py",
   "mimetype": "text/x-python",
   "name": "python",
   "nbconvert_exporter": "python",
   "pygments_lexer": "ipython3",
   "version": "3.6.10"
  }
 },
 "nbformat": 4,
 "nbformat_minor": 4
}
