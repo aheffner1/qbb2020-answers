{
 "cells": [
  {
   "cell_type": "markdown",
   "metadata": {},
   "source": [
    "# For the first 10 alignments, print just the column indicating which chromosome a given read aligns to"
   ]
  },
  {
   "cell_type": "markdown",
   "metadata": {},
   "source": [
    "# import file"
   ]
  },
  {
   "cell_type": "code",
   "execution_count": 2,
   "metadata": {},
   "outputs": [],
   "source": [
    "fs = open(\"/Users/cmdb/qbb2020-answers/day1-evening/SRR072893.sam\", 'r')"
   ]
  },
  {
   "cell_type": "code",
   "execution_count": 31,
   "metadata": {},
   "outputs": [
    {
     "name": "stdout",
     "output_type": "stream",
     "text": [
      "['SRR072893.11503696', '0', '2L', '11855', '60', '40M', '*', '0', '0', 'AATATCGCCAATAGAGCTGCTGATAGTCTCGTTAGCTTGA', 'CCCCCCCCCCCCCCACCCCCCCCCCCBCCCCBC5BACCC9', 'AS:i:0', 'XN:i:0', 'XM:i:0', 'XO:i:0', 'XG:i:0', 'NM:i:0', 'MD:Z:40', 'YT:Z:UU', 'NH:i:1']\n",
      "2L\n",
      "['SRR072893.4958437', '16', '2L', '11857', '60', '40M', '*', '0', '0', 'TATCGCCAATAGAGCTGCTGATAGTCTCGTTAGCTTGATT', '<BCCCCCCBCCC?CCBBCBCC@CC?A=AA?CBCCCCCC=B', 'AS:i:0', 'XN:i:0', 'XM:i:0', 'XO:i:0', 'XG:i:0', 'NM:i:0', 'MD:Z:40', 'YT:Z:UU', 'NH:i:1']\n",
      "2L\n",
      "['SRR072893.11641934', '16', '2L', '11857', '60', '40M', '*', '0', '0', 'TGTCGCCAATAGAGCTGCTGATAGTCTCGTTAGCTTGATT', '%%%%%??;:8@<=BB>B@@BBBBABB>B>B0000078786', 'AS:i:-2', 'ZS:i:-2', 'XN:i:0', 'XM:i:1', 'XO:i:0', 'XG:i:0', 'NM:i:1', 'MD:Z:1A38', 'YT:Z:UU', 'NH:i:1']\n",
      "2L\n",
      "['SRR072893.14996232', '16', '2L', '11857', '60', '40M', '*', '0', '0', 'TTTCGCCAATAGAGCTGCTGATAGTCTCGTTAGCTTGATT', '%%%%%%%%%%A?8:?>A?BBB<BB?>>>>><B???<<:<>', 'AS:i:-2', 'ZS:i:-2', 'XN:i:0', 'XM:i:1', 'XO:i:0', 'XG:i:0', 'NM:i:1', 'MD:Z:1A38', 'YT:Z:UU', 'NH:i:1']\n",
      "2L\n",
      "['SRR072893.15279699', '16', '2L', '11857', '60', '40M', '*', '0', '0', 'TATCGCCAATAGAGCTGCTGATAGTCTCGTTAGCTTGATT', '%%%%%%%%%%%%%%%%%%%%%%%%%%%%%%%%%%%%%%%%', 'AS:i:0', 'XN:i:0', 'XM:i:0', 'XO:i:0', 'XG:i:0', 'NM:i:0', 'MD:Z:40', 'YT:Z:UU', 'NH:i:1']\n",
      "2L\n",
      "['SRR072893.18321818', '0', '2L', '11859', '60', '40M', '*', '0', '0', 'TCGCCAATAGAGCTGCTGATAGTCTCGTTAGCTTGATTAG', '<<49B<B<BB4<><<?????B<?BB?<??<AAA?%%%%%%', 'AS:i:0', 'XN:i:0', 'XM:i:0', 'XO:i:0', 'XG:i:0', 'NM:i:0', 'MD:Z:40', 'YT:Z:UU', 'NH:i:1']\n",
      "2L\n",
      "['SRR072893.2475330', '16', '2L', '11859', '60', '40M', '*', '0', '0', 'TCGCCAATAGAGCTGCTGATAGTCTCGTTAGCTTGATTAG', 'CCDCCCCCCC@CCCCCCBCCCCCCDCCCCCCCCCCCCCCC', 'AS:i:0', 'XN:i:0', 'XM:i:0', 'XO:i:0', 'XG:i:0', 'NM:i:0', 'MD:Z:40', 'YT:Z:UU', 'NH:i:1']\n",
      "2L\n",
      "['SRR072893.10486598', '16', '2L', '11859', '60', '40M', '*', '0', '0', 'TCGCCAATAGAGCTGCTGATAGTCTCGTTAGCTTGATTAG', 'BCC@CBBCCCCCBCBBC@CBCCCCBCCCCCCCCCCBCCCB', 'AS:i:0', 'XN:i:0', 'XM:i:0', 'XO:i:0', 'XG:i:0', 'NM:i:0', 'MD:Z:40', 'YT:Z:UU', 'NH:i:1']\n",
      "2L\n",
      "['SRR072893.10710913', '16', '2L', '11859', '60', '40M', '*', '0', '0', 'TCGCCAATAGAGCTGCTGATAGTCTCGTTAGCTTGATTAG', '7;364B@BAACCCACCCCACCABBCCCCCBCCCCCCBCCC', 'AS:i:0', 'XN:i:0', 'XM:i:0', 'XO:i:0', 'XG:i:0', 'NM:i:0', 'MD:Z:40', 'YT:Z:UU', 'NH:i:1']\n",
      "2L\n",
      "['SRR072893.17951815', '16', '2L', '11859', '60', '40M', '*', '0', '0', 'TCGCCAATAGAGCTGCTGATAGTCTCGTTAGCTTGATTAG', 'CCCCCCCCCCC>CCCCCCCCCCCCCCCCCCCCCCCCCCCC', 'AS:i:0', 'XN:i:0', 'XM:i:0', 'XO:i:0', 'XG:i:0', 'NM:i:0', 'MD:Z:40', 'YT:Z:UU', 'NH:i:1']\n",
      "2L\n"
     ]
    }
   ],
   "source": [
    "chrm = []\n",
    "SSR07 = []\n",
    "for i in range(1,11):\n",
    "    line = fs.readline()\n",
    "    SSR07 = line.split()\n",
    "    print(SSR07)\n",
    "    print(SSR07[2])"
   ]
  },
  {
   "cell_type": "code",
   "execution_count": 9,
   "metadata": {},
   "outputs": [
    {
     "name": "stdout",
     "output_type": "stream",
     "text": [
      "\u001b[H\u001b[2J"
     ]
    }
   ],
   "source": []
  },
  {
   "cell_type": "code",
   "execution_count": null,
   "metadata": {},
   "outputs": [],
   "source": []
  }
 ],
 "metadata": {
  "kernelspec": {
   "display_name": "Python 3",
   "language": "python",
   "name": "python3"
  },
  "language_info": {
   "codemirror_mode": {
    "name": "ipython",
    "version": 3
   },
   "file_extension": ".py",
   "mimetype": "text/x-python",
   "name": "python",
   "nbconvert_exporter": "python",
   "pygments_lexer": "ipython3",
   "version": "3.6.10"
  }
 },
 "nbformat": 4,
 "nbformat_minor": 4
}
